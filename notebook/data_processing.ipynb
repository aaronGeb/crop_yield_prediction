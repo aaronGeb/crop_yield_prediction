{
 "cells": [
  {
   "cell_type": "code",
   "execution_count": null,
   "metadata": {},
   "outputs": [
    {
     "name": "stdout",
     "output_type": "stream",
     "text": [
      "   Temperature (°C)  Rainfall (mm)  Humidity (%) Soil Type Weather Condition  \\\n",
      "0         22.490802     185.132929     53.085284     Sandy             Sunny   \n",
      "1         34.014286     541.900947     52.348940     Loamy             Sunny   \n",
      "2         29.639879     872.945836     85.312729     Peaty             Rainy   \n",
      "3         26.973170     732.224886     52.477310     Sandy             Sunny   \n",
      "4         18.120373     806.561148     53.597486      Clay            Stormy   \n",
      "\n",
      "  Crop Type  Yield (tons/hectare)  \n",
      "0    Barley              2.818937  \n",
      "1      Corn              8.014166  \n",
      "2     Wheat              9.249868  \n",
      "3  Soybeans              7.947481  \n",
      "4    Barley              6.262616  \n",
      "Dataset saved to '../data/crop_yield_dataset.csv'\n"
     ]
    }
   ],
   "source": [
    "import pandas as pd\n",
    "import numpy as np\n",
    "\n",
    "# Define possible values for each category\n",
    "weather_conditions = ['Sunny', 'Rainy', 'Cloudy', 'Stormy']\n",
    "soil_types = ['Loamy', 'Clay', 'Sandy', 'Silty', 'Peaty']\n",
    "crop_types = ['Wheat', 'Rice', 'Corn', 'Barley', 'Soybeans']\n",
    "\n",
    "# Generate a synthetic dataset with 1000 rows\n",
    "np.random.seed(42)  # For reproducibility\n",
    "num_rows = 1000\n",
    "\n",
    "data = {\n",
    "    'Temperature (°C)': np.random.uniform(15, 35, num_rows),\n",
    "    'Rainfall (mm)': np.random.uniform(0, 1000, num_rows),\n",
    "    'Humidity (%)': np.random.uniform(40, 90, num_rows),\n",
    "    'Soil Type': np.random.choice(soil_types, num_rows),\n",
    "    'Weather Condition': np.random.choice(weather_conditions, num_rows),\n",
    "    'Crop Type': np.random.choice(crop_types, num_rows),\n",
    "    'Yield (tons/hectare)': np.random.uniform(2, 10, num_rows)\n",
    "}\n",
    "\n",
    "df = pd.DataFrame(data)\n",
    "\n",
    "# Display the first few rows\n",
    "print(df.head())\n",
    "\n",
    "# Save the dataset to a CSV file\n",
    "df.to_csv(\"../data/crop_yield_dataset.csv\", index=False)\n",
    "print(\"Dataset saved to '../data/crop_yield_dataset.csv'\")"
   ]
  },
  {
   "cell_type": "code",
   "execution_count": 3,
   "metadata": {},
   "outputs": [
    {
     "data": {
      "text/html": [
       "<div>\n",
       "<style scoped>\n",
       "    .dataframe tbody tr th:only-of-type {\n",
       "        vertical-align: middle;\n",
       "    }\n",
       "\n",
       "    .dataframe tbody tr th {\n",
       "        vertical-align: top;\n",
       "    }\n",
       "\n",
       "    .dataframe thead th {\n",
       "        text-align: right;\n",
       "    }\n",
       "</style>\n",
       "<table border=\"1\" class=\"dataframe\">\n",
       "  <thead>\n",
       "    <tr style=\"text-align: right;\">\n",
       "      <th></th>\n",
       "      <th>Temperature (°C)</th>\n",
       "      <th>Rainfall (mm)</th>\n",
       "      <th>Humidity (%)</th>\n",
       "      <th>Soil Type</th>\n",
       "      <th>Weather Condition</th>\n",
       "      <th>Crop Type</th>\n",
       "      <th>Yield (tons/hectare)</th>\n",
       "    </tr>\n",
       "  </thead>\n",
       "  <tbody>\n",
       "    <tr>\n",
       "      <th>0</th>\n",
       "      <td>22.490802</td>\n",
       "      <td>185.132929</td>\n",
       "      <td>53.085284</td>\n",
       "      <td>Sandy</td>\n",
       "      <td>Sunny</td>\n",
       "      <td>Barley</td>\n",
       "      <td>2.818937</td>\n",
       "    </tr>\n",
       "    <tr>\n",
       "      <th>1</th>\n",
       "      <td>34.014286</td>\n",
       "      <td>541.900947</td>\n",
       "      <td>52.348940</td>\n",
       "      <td>Loamy</td>\n",
       "      <td>Sunny</td>\n",
       "      <td>Corn</td>\n",
       "      <td>8.014166</td>\n",
       "    </tr>\n",
       "    <tr>\n",
       "      <th>2</th>\n",
       "      <td>29.639879</td>\n",
       "      <td>872.945836</td>\n",
       "      <td>85.312729</td>\n",
       "      <td>Peaty</td>\n",
       "      <td>Rainy</td>\n",
       "      <td>Wheat</td>\n",
       "      <td>9.249868</td>\n",
       "    </tr>\n",
       "    <tr>\n",
       "      <th>3</th>\n",
       "      <td>26.973170</td>\n",
       "      <td>732.224886</td>\n",
       "      <td>52.477310</td>\n",
       "      <td>Sandy</td>\n",
       "      <td>Sunny</td>\n",
       "      <td>Soybeans</td>\n",
       "      <td>7.947481</td>\n",
       "    </tr>\n",
       "    <tr>\n",
       "      <th>4</th>\n",
       "      <td>18.120373</td>\n",
       "      <td>806.561148</td>\n",
       "      <td>53.597486</td>\n",
       "      <td>Clay</td>\n",
       "      <td>Stormy</td>\n",
       "      <td>Barley</td>\n",
       "      <td>6.262616</td>\n",
       "    </tr>\n",
       "  </tbody>\n",
       "</table>\n",
       "</div>"
      ],
      "text/plain": [
       "   Temperature (°C)  Rainfall (mm)  Humidity (%) Soil Type Weather Condition  \\\n",
       "0         22.490802     185.132929     53.085284     Sandy             Sunny   \n",
       "1         34.014286     541.900947     52.348940     Loamy             Sunny   \n",
       "2         29.639879     872.945836     85.312729     Peaty             Rainy   \n",
       "3         26.973170     732.224886     52.477310     Sandy             Sunny   \n",
       "4         18.120373     806.561148     53.597486      Clay            Stormy   \n",
       "\n",
       "  Crop Type  Yield (tons/hectare)  \n",
       "0    Barley              2.818937  \n",
       "1      Corn              8.014166  \n",
       "2     Wheat              9.249868  \n",
       "3  Soybeans              7.947481  \n",
       "4    Barley              6.262616  "
      ]
     },
     "execution_count": 3,
     "metadata": {},
     "output_type": "execute_result"
    }
   ],
   "source": [
    "df = pd.read_csv(\"../data/crop_yield_dataset.csv\")\n",
    "df.head()"
   ]
  },
  {
   "cell_type": "code",
   "execution_count": 6,
   "metadata": {},
   "outputs": [
    {
     "data": {
      "text/plain": [
       "Crop Type\n",
       "Rice        228\n",
       "Wheat       203\n",
       "Soybeans    199\n",
       "Corn        189\n",
       "Barley      181\n",
       "Name: count, dtype: int64"
      ]
     },
     "execution_count": 6,
     "metadata": {},
     "output_type": "execute_result"
    }
   ],
   "source": [
    "df['Crop Type'].value_counts()"
   ]
  },
  {
   "cell_type": "code",
   "execution_count": null,
   "metadata": {},
   "outputs": [],
   "source": []
  }
 ],
 "metadata": {
  "kernelspec": {
   "display_name": "py39_env",
   "language": "python",
   "name": "python3"
  },
  "language_info": {
   "codemirror_mode": {
    "name": "ipython",
    "version": 3
   },
   "file_extension": ".py",
   "mimetype": "text/x-python",
   "name": "python",
   "nbconvert_exporter": "python",
   "pygments_lexer": "ipython3",
   "version": "3.9.19"
  }
 },
 "nbformat": 4,
 "nbformat_minor": 2
}
