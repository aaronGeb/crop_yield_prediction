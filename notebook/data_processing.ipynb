{
 "cells": [
  {
   "cell_type": "code",
   "execution_count": null,
   "metadata": {},
   "outputs": [
    {
     "name": "stdout",
     "output_type": "stream",
     "text": [
      "   Temperature (°C)  Rainfall (mm)  Humidity (%) Soil Type Weather Condition  \\\n",
      "0         22.490802     185.132929     53.085284     Sandy             Sunny   \n",
      "1         34.014286     541.900947     52.348940     Loamy             Sunny   \n",
      "2         29.639879     872.945836     85.312729     Peaty             Rainy   \n",
      "3         26.973170     732.224886     52.477310     Sandy             Sunny   \n",
      "4         18.120373     806.561148     53.597486      Clay            Stormy   \n",
      "\n",
      "  Crop Type  Yield (tons/hectare)  \n",
      "0    Barley              2.818937  \n",
      "1      Corn              8.014166  \n",
      "2     Wheat              9.249868  \n",
      "3  Soybeans              7.947481  \n",
      "4    Barley              6.262616  \n",
      "Dataset saved to '../data/crop_yield_dataset.csv'\n"
     ]
    }
   ],
   "source": [
    "import pandas as pd\n",
    "import numpy as np\n",
    "\n",
    "# Define possible values for each category\n",
    "weather_conditions = ['Sunny', 'Rainy', 'Cloudy', 'Stormy']\n",
    "soil_types = ['Loamy', 'Clay', 'Sandy', 'Silty', 'Peaty']\n",
    "crop_types = ['Wheat', 'Rice', 'Corn', 'Barley', 'Soybeans']\n",
    "\n",
    "# Generate a synthetic dataset with 1000 rows\n",
    "np.random.seed(42)  # For reproducibility\n",
    "num_rows = 1000\n",
    "\n",
    "data = {\n",
    "    'Temperature (°C)': np.random.uniform(15, 35, num_rows),\n",
    "    'Rainfall (mm)': np.random.uniform(0, 1000, num_rows),\n",
    "    'Humidity (%)': np.random.uniform(40, 90, num_rows),\n",
    "    'Soil Type': np.random.choice(soil_types, num_rows),\n",
    "    'Weather Condition': np.random.choice(weather_conditions, num_rows),\n",
    "    'Crop Type': np.random.choice(crop_types, num_rows),\n",
    "    'Yield (tons/hectare)': np.random.uniform(2, 10, num_rows)\n",
    "}\n",
    "\n",
    "df = pd.DataFrame(data)\n",
    "\n",
    "# Display the first few rows\n",
    "print(df.head())\n",
    "\n",
    "# Save the dataset to a CSV file\n",
    "df.to_csv(\"../data/crop_yield_dataset.csv\", index=False)\n",
    "print(\"Dataset saved to '../data/crop_yield_dataset.csv'\")"
   ]
  }
 ],
 "metadata": {
  "kernelspec": {
   "display_name": "py39_env",
   "language": "python",
   "name": "python3"
  },
  "language_info": {
   "codemirror_mode": {
    "name": "ipython",
    "version": 3
   },
   "file_extension": ".py",
   "mimetype": "text/x-python",
   "name": "python",
   "nbconvert_exporter": "python",
   "pygments_lexer": "ipython3",
   "version": "3.9.19"
  }
 },
 "nbformat": 4,
 "nbformat_minor": 2
}
